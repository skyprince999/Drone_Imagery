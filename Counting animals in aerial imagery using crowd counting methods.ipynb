{
 "cells": [
  {
   "cell_type": "code",
   "execution_count": null,
   "id": "783e52fa",
   "metadata": {},
   "outputs": [],
   "source": [
    "import os\n",
    "import json "
   ]
  },
  {
   "cell_type": "code",
   "execution_count": null,
   "id": "7e37a9e3",
   "metadata": {},
   "outputs": [],
   "source": [
    "filepath = [\n",
    "    \"E:\\\\JACK_export-2021-08-02T07_51_56.733Z.json\",\n",
    "    \"E:\\\\LUKE_export-2021-08-02T07_53_50.740Z.json\",\n",
    "    \"E:\\\\MAISIE_export-2021-08-02T07_54_34.637Z.json\",\n",
    "    \"E:\\\\THOMAS_export-2021-08-02T07_52_31.079Z.json\"\n",
    "]"
   ]
  },
  {
   "cell_type": "code",
   "execution_count": null,
   "id": "a38149e3",
   "metadata": {},
   "outputs": [],
   "source": [
    "with open(filepath[0], \"r+\") as fp:\n",
    "    jack = json.load(fp)\n",
    "\n",
    "with open(filepath[1], \"r+\") as fp:\n",
    "    luke = json.load(fp)\n",
    "    \n",
    "with open(filepath[2], \"r+\") as fp:\n",
    "    maisie = json.load(fp)\n",
    "\n",
    "with open(filepath[3], \"r+\") as fp:\n",
    "    thomas = json.load(fp)"
   ]
  },
  {
   "cell_type": "code",
   "execution_count": null,
   "id": "43907b01",
   "metadata": {},
   "outputs": [],
   "source": [
    "len(jack), len(luke), len(maisie), len(thomas)"
   ]
  },
  {
   "cell_type": "code",
   "execution_count": null,
   "id": "bf29bef7",
   "metadata": {},
   "outputs": [],
   "source": [
    "176+178+265+134"
   ]
  },
  {
   "cell_type": "code",
   "execution_count": null,
   "id": "26d59a48",
   "metadata": {},
   "outputs": [],
   "source": [
    "jack.extend(luke)"
   ]
  },
  {
   "cell_type": "code",
   "execution_count": null,
   "id": "a8df3286",
   "metadata": {},
   "outputs": [],
   "source": [
    "len(jack)"
   ]
  },
  {
   "cell_type": "code",
   "execution_count": null,
   "id": "2f0a5323",
   "metadata": {},
   "outputs": [],
   "source": [
    "jack.extend(maisie)"
   ]
  },
  {
   "cell_type": "code",
   "execution_count": null,
   "id": "82fbb2fc",
   "metadata": {},
   "outputs": [],
   "source": [
    "jack.extend(thomas)"
   ]
  },
  {
   "cell_type": "code",
   "execution_count": null,
   "id": "8e728f1d",
   "metadata": {},
   "outputs": [],
   "source": [
    "len(jack)"
   ]
  },
  {
   "cell_type": "code",
   "execution_count": null,
   "id": "5ebcf768",
   "metadata": {},
   "outputs": [],
   "source": [
    "jack[10].keys()"
   ]
  },
  {
   "cell_type": "code",
   "execution_count": null,
   "id": "e4e41900",
   "metadata": {},
   "outputs": [],
   "source": [
    "jack[10]"
   ]
  },
  {
   "cell_type": "code",
   "execution_count": null,
   "id": "1a9cdf3a",
   "metadata": {},
   "outputs": [],
   "source": [
    "jack[10][\"Label\"].keys()"
   ]
  },
  {
   "cell_type": "code",
   "execution_count": null,
   "id": "5cfcb307",
   "metadata": {},
   "outputs": [],
   "source": [
    "len(jack[10][\"Label\"]['objects'])"
   ]
  },
  {
   "cell_type": "code",
   "execution_count": null,
   "id": "502e32b5",
   "metadata": {},
   "outputs": [],
   "source": [
    "jack[10][\"Label\"]['classifications']"
   ]
  },
  {
   "cell_type": "code",
   "execution_count": null,
   "id": "ff082682",
   "metadata": {},
   "outputs": [],
   "source": [
    "jack[10][\"Label\"]['objects'][0]"
   ]
  },
  {
   "cell_type": "code",
   "execution_count": null,
   "id": "39a08f6d",
   "metadata": {},
   "outputs": [],
   "source": [
    "jack[100][\"Label\"]['classifications']"
   ]
  },
  {
   "cell_type": "code",
   "execution_count": null,
   "id": "69942405",
   "metadata": {},
   "outputs": [],
   "source": [
    "objects = list()\n",
    "px_size = list()\n",
    "\n",
    "for img in jack:\n",
    "    if img[\"Label\"].get(\"objects\"):\n",
    "        obj_list = img[\"Label\"][\"objects\"]\n",
    "        for obj in obj_list:\n",
    "            objects.append(obj)\n",
    "            obj_size = obj['bbox']['height']*obj['bbox']['width']\n",
    "            px_size.append(obj_size)\n",
    "        \n",
    "        \n",
    "len(objects)"
   ]
  },
  {
   "cell_type": "code",
   "execution_count": null,
   "id": "cf600eb0",
   "metadata": {},
   "outputs": [],
   "source": [
    "sum(px_size)/len(px_size)"
   ]
  },
  {
   "cell_type": "code",
   "execution_count": null,
   "id": "21c74d2a",
   "metadata": {},
   "outputs": [],
   "source": [
    "137365/753"
   ]
  },
  {
   "cell_type": "code",
   "execution_count": null,
   "id": "6f6ce359",
   "metadata": {},
   "outputs": [],
   "source": [
    "len(jack[6]['Label']['objects'])"
   ]
  },
  {
   "cell_type": "code",
   "execution_count": null,
   "id": "ef712914",
   "metadata": {},
   "outputs": [],
   "source": [
    "jack[7]['Labeled Data']"
   ]
  },
  {
   "cell_type": "code",
   "execution_count": null,
   "id": "434e8498",
   "metadata": {},
   "outputs": [],
   "source": [
    "from PIL import Image, ImageDraw\n",
    "import requests\n",
    "from io import BytesIO\n",
    "import matplotlib.pyplot as plt"
   ]
  },
  {
   "cell_type": "code",
   "execution_count": null,
   "id": "5496a375",
   "metadata": {},
   "outputs": [],
   "source": [
    "idx = 100\n",
    "url = maisie[idx]['Labeled Data']\n",
    "response = requests.get(url)\n",
    "img = Image.open(BytesIO(response.content))\n",
    "# plt.subplot(1, 2, 1)  # row 1, column 2, count 1\n",
    "img"
   ]
  },
  {
   "cell_type": "code",
   "execution_count": null,
   "id": "39c30339",
   "metadata": {},
   "outputs": [],
   "source": [
    "\n",
    "for obj in maisie[idx]['Label']['objects']:\n",
    "    x0 = obj['bbox']['left']\n",
    "    y0 = obj['bbox']['top']\n",
    "    x1 = x0 + obj['bbox']['width']\n",
    "    y1 = y0 + obj['bbox']['height']\n",
    "    shape = [(x0,y0) ,(x1,y1)]\n",
    "    img1 = ImageDraw.Draw(img) \n",
    "    img1.rectangle(shape, fill =\"red\", outline=\"red\")\n",
    "    \n",
    "img"
   ]
  },
  {
   "cell_type": "code",
   "execution_count": null,
   "id": "44113288",
   "metadata": {},
   "outputs": [],
   "source": [
    "obj['bbox']"
   ]
  },
  {
   "cell_type": "code",
   "execution_count": null,
   "id": "a8ad331f",
   "metadata": {},
   "outputs": [],
   "source": []
  }
 ],
 "metadata": {
  "kernelspec": {
   "display_name": "Python 3 (ipykernel)",
   "language": "python",
   "name": "python3"
  },
  "language_info": {
   "codemirror_mode": {
    "name": "ipython",
    "version": 3
   },
   "file_extension": ".py",
   "mimetype": "text/x-python",
   "name": "python",
   "nbconvert_exporter": "python",
   "pygments_lexer": "ipython3",
   "version": "3.9.13"
  }
 },
 "nbformat": 4,
 "nbformat_minor": 5
}
