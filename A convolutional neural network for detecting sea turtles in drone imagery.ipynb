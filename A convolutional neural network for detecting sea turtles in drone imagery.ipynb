{
 "cells": [
  {
   "cell_type": "code",
   "execution_count": null,
   "id": "def1a13c",
   "metadata": {},
   "outputs": [],
   "source": [
    "import os\n",
    "import json \n",
    "import pandas as pd\n",
    "\n",
    "from PIL import Image, ImageDraw\n",
    "import requests\n",
    "from io import BytesIO\n",
    "import matplotlib.pyplot as plt"
   ]
  },
  {
   "cell_type": "code",
   "execution_count": null,
   "id": "bcca0feb",
   "metadata": {},
   "outputs": [],
   "source": [
    "filepath = \"E:\\\\turtle_image_metadata.csv\""
   ]
  },
  {
   "cell_type": "code",
   "execution_count": null,
   "id": "2721b7a6",
   "metadata": {},
   "outputs": [],
   "source": [
    "metadata = pd.read_csv(filepath)\n",
    "print(metadata.shape)\n",
    "metadata.head()"
   ]
  },
  {
   "cell_type": "code",
   "execution_count": null,
   "id": "22276347",
   "metadata": {},
   "outputs": [],
   "source": [
    "metadata.columns"
   ]
  },
  {
   "cell_type": "code",
   "execution_count": null,
   "id": "a8682f23",
   "metadata": {},
   "outputs": [],
   "source": [
    "filelist = metadata[\"filename\"].unique()\n",
    "len(filelist)"
   ]
  },
  {
   "cell_type": "code",
   "execution_count": null,
   "id": "a0f467df",
   "metadata": {},
   "outputs": [],
   "source": [
    "metadata['label'].unique()"
   ]
  },
  {
   "cell_type": "code",
   "execution_count": null,
   "id": "7605f9c5",
   "metadata": {},
   "outputs": [],
   "source": [
    "metadata['label'].value_counts()"
   ]
  },
  {
   "cell_type": "code",
   "execution_count": null,
   "id": "0ce2ad46",
   "metadata": {},
   "outputs": [],
   "source": [
    "pos = metadata[metadata['label']!='0']\n",
    "print(pos.shape)\n",
    "pos.head()"
   ]
  },
  {
   "cell_type": "code",
   "execution_count": null,
   "id": "4074a0a3",
   "metadata": {},
   "outputs": [],
   "source": [
    "metadata['location'].value_counts()"
   ]
  },
  {
   "cell_type": "code",
   "execution_count": null,
   "id": "5ad933ad",
   "metadata": {},
   "outputs": [],
   "source": [
    "pos['location'].value_counts()"
   ]
  },
  {
   "cell_type": "code",
   "execution_count": null,
   "id": "7b43ee21",
   "metadata": {},
   "outputs": [],
   "source": [
    "pos['filename'].value_counts()"
   ]
  },
  {
   "cell_type": "code",
   "execution_count": null,
   "id": "eb915d9f",
   "metadata": {},
   "outputs": [],
   "source": [
    "filename = \"8Aug20158Aug20158RioBeach3KMLanePM20150807cr5surprisebeach3kmlaneimg_20150808_011855_IMG_6117_NIR.jpg\"\n",
    "drive = \"E:\"\n",
    "\n",
    "temp = pos[pos[\"filename\"] == filename]\n",
    "print(temp.shape)\n",
    "# temp.dropna(inplace=True)\n",
    "# print(temp.shape)\n",
    "\n",
    "file_location = temp[\"file_location\"].unique()[0].replace(\"/\", \"\\\\\")\n",
    "filename = os.path.join(drive,file_location,filename)\n",
    "img = Image.open(filename)\n",
    "img"
   ]
  },
  {
   "cell_type": "code",
   "execution_count": null,
   "id": "13a61e43",
   "metadata": {},
   "outputs": [],
   "source": [
    "for idx,row in temp.iterrows():\n",
    "    \n",
    "    shape = [int(row['left']), int(row['top']), int(row['left'])+50, int(row['top'])+50]\n",
    "    img1 = ImageDraw.Draw(img)\n",
    "    img1.rectangle(shape, fill=\"red\", outline=\"red\")\n",
    "    \n",
    "img"
   ]
  },
  {
   "cell_type": "code",
   "execution_count": null,
   "id": "ac68d291",
   "metadata": {},
   "outputs": [],
   "source": [
    "temp = pos[pos['location'] == \"North\"]\n",
    "temp.shape"
   ]
  },
  {
   "cell_type": "code",
   "execution_count": null,
   "id": "ebd3ff94",
   "metadata": {},
   "outputs": [],
   "source": [
    "temp['filename'].value_counts()"
   ]
  },
  {
   "cell_type": "code",
   "execution_count": null,
   "id": "8bfbb57e",
   "metadata": {},
   "outputs": [],
   "source": [
    "filename = \"20150807cr5mainnestingbeachnlane_20150808_000626_IMG_5820_NIR.jpg\"\n",
    "\n",
    "temp = pos[pos['filename'] == filename]\n",
    "print(temp.shape)\n",
    "# temp.dropna(inplace=True)\n",
    "# print(temp.shape)"
   ]
  },
  {
   "cell_type": "code",
   "execution_count": null,
   "id": "27063411",
   "metadata": {},
   "outputs": [],
   "source": [
    "file_location = temp[\"file_location\"].unique()[0].replace(\"/\", \"\\\\\")\n",
    "filename = os.path.join(drive,file_location,filename)\n",
    "img = Image.open(filename)\n",
    "img"
   ]
  },
  {
   "cell_type": "code",
   "execution_count": null,
   "id": "f50f7d80",
   "metadata": {},
   "outputs": [],
   "source": [
    "for idx,row in temp.iterrows():\n",
    "    \n",
    "    shape = [int(row['left']), int(row['top']), int(row['left'])+50, int(row['top'])+50]\n",
    "    img1 = ImageDraw.Draw(img)\n",
    "    img1.rectangle(shape, fill=\"red\", outline=\"red\")\n",
    "    \n",
    "img"
   ]
  },
  {
   "cell_type": "code",
   "execution_count": null,
   "id": "b41de20f",
   "metadata": {},
   "outputs": [],
   "source": []
  }
 ],
 "metadata": {
  "kernelspec": {
   "display_name": "Python 3 (ipykernel)",
   "language": "python",
   "name": "python3"
  },
  "language_info": {
   "codemirror_mode": {
    "name": "ipython",
    "version": 3
   },
   "file_extension": ".py",
   "mimetype": "text/x-python",
   "name": "python",
   "nbconvert_exporter": "python",
   "pygments_lexer": "ipython3",
   "version": "3.9.13"
  }
 },
 "nbformat": 4,
 "nbformat_minor": 5
}
